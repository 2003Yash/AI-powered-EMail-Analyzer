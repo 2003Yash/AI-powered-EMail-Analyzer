{
  "nbformat": 4,
  "nbformat_minor": 0,
  "metadata": {
    "colab": {
      "provenance": [],
      "authorship_tag": "API_KEY",
      "include_colab_link": true
    },
    "kernelspec": {
      "name": "python3",
      "display_name": "Python 3"
    },
    "language_info": {
      "name": "python"
    }
  },
  "cells": [
    {
      "cell_type": "markdown",
      "metadata": {
        "id": "view-in-github",
        "colab_type": "text"
      },
      "source": [
        "<a href=\"https://colab.research.google.com/github/2003Yash/AI-powered-EMail-Analyzer/blob/main/easeworkai_ai_assignment.ipynb\" target=\"_parent\"><img src=\"https://colab.research.google.com/assets/colab-badge.svg\" alt=\"Open In Colab\"/></a>"
      ]
    },
    {
      "cell_type": "code",
      "source": [
        "import streamlit as st\n",
        "import google.generativeai as ai\n",
        "import shelve\n",
        "from faker import Faker\n",
        "\n",
        "\n",
        "ai.configure(api_key=\"API_KEY\")\n",
        "model = ai.GenerativeModel(\"gemini-pro\")\n",
        "chat = model.start_chat()\n",
        "\n",
        "# Setup local NoSQL storage using shelve\n",
        "db_path = \"email_database\"\n",
        "\n",
        "def store_emails_shelve(n=10):\n",
        "    fake = Faker()\n",
        "    with shelve.open(db_path) as db:\n",
        "        for i in range(n):\n",
        "            email = {\n",
        "                \"sender\": fake.email(),\n",
        "                \"receiver\": fake.email(),\n",
        "                \"subject\": fake.sentence(),\n",
        "                \"body\": fake.paragraph(),\n",
        "                \"timestamp\": str(fake.date_time_this_year())\n",
        "            }\n",
        "            db[str(i)] = email\n",
        "    return f\"Inserted {n} fake emails into the database.\"\n",
        "\n",
        "def get_emails():\n",
        "    emails = []\n",
        "    with shelve.open(db_path) as db:\n",
        "        for key in list(db.keys())[:5]:\n",
        "            email = db[key]\n",
        "            emails.append(f\"From: {email['sender']}, Subject: {email['subject']}\")\n",
        "    return emails\n",
        "\n",
        "# Streamlit UI\n",
        "st.title(\"📧 Email Assistant Chatbot\")\n",
        "\n",
        "if st.button(\"Generate Fake Emails\"):\n",
        "    message = store_emails_shelve(10)\n",
        "    st.success(message)\n",
        "\n",
        "st.subheader(\"Recent Emails\")\n",
        "emails = get_emails()\n",
        "for email in emails:\n",
        "    st.write(email)\n",
        "\n",
        "st.subheader(\"Chat with Email Assistant\")\n",
        "user_input = st.text_input(\"You:\")\n",
        "if st.button(\"Send\"):\n",
        "    if user_input:\n",
        "        prompt = f\"\"\"\n",
        "        You are an intelligent Email Assistant chatbot that understands and helps with various email-related tasks.\n",
        "        You can assist with:\n",
        "        1) Sending emails\n",
        "        2) Querying past emails\n",
        "        3) Reading emails\n",
        "        4) Deleting emails\n",
        "        5) Forwarding emails\n",
        "        6) Replying to emails\n",
        "\n",
        "        Emails stored in the database:\n",
        "        {get_emails()}\n",
        "\n",
        "        Always provide clear and helpful responses regarding email management.\n",
        "\n",
        "        User Input: {user_input}\n",
        "        \"\"\"\n",
        "        response = chat.send_message(prompt)\n",
        "        st.text_area(\"Bot:\", response.text, height=200)\n"
      ],
      "metadata": {
        "id": "VpMRCB6lo2A9"
      },
      "execution_count": null,
      "outputs": []
    }
  ]
}
